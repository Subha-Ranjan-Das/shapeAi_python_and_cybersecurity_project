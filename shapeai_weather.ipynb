{
  "nbformat": 4,
  "nbformat_minor": 0,
  "metadata": {
    "colab": {
      "name": "shapeai_weather.ipynb",
      "provenance": [],
      "collapsed_sections": []
    },
    "kernelspec": {
      "name": "python3",
      "display_name": "Python 3"
    },
    "language_info": {
      "name": "python"
    }
  },
  "cells": [
    {
      "cell_type": "code",
      "metadata": {
        "id": "_n_3-4Als_yR",
        "colab": {
          "base_uri": "https://localhost:8080/"
        },
        "outputId": "489a7199-b845-4d83-bd8f-dc56c866d4aa"
      },
      "source": [
        "import requests\n",
        "from datetime import datetime\n",
        "\n",
        "\n",
        "api_key = '5bd53b857cdfaeef5a5ea39ac2dafef8'\n",
        "location = input(\"Enter the city name:\")\n",
        "\n",
        "complete_api_link = \"https://api.openweathermap.org/data/2.5/weather?q=\"+location+\"&appid=\"+api_key\n",
        "api_link = requests.get(complete_api_link)\n",
        "api_data = api_link.json()\n",
        "\n",
        "\n",
        "temp_city = ((api_data['main']['temp'])- 273.15 )\n",
        "weather_desc = (api_data['weather'][0]['description'])\n",
        "hmdt = (api_data['main']['humidity'])\n",
        "wind_spd = (api_data['wind']['speed'])\n",
        "date_time = datetime.now().strftime(\"%d %b %y | %I:%M:%S %p \")\n",
        "\n",
        "print(\"-----------------------------------------------------\")\n",
        "print(\"Weather stats for - {} || {}\".format(location.upper(), date_time))\n",
        "print(\"-----------------------------------------------------\")\n",
        "print(\"Current temperature is: {:.2f} deg C\".format(temp_city))\n",
        "print(\"current weather desc  :\",weather_desc)\n",
        "print(\"current Humidity      :\",hmdt,'%')\n",
        "print(\"current wind speed    :\",wind_spd , 'kmph')\n",
        "\n",
        "\n",
        "with open('weather.txt','w') as f:\n",
        " f.write(\"-----------------------------------------------------------------\\n\")\n",
        " f.write(\"Weather stats for - {} || {}\\n\".format(location.upper(), date_time))\n",
        " f.write(\"------------------------------------------------------------------\\n\")\n",
        " f.write(\"Current temperature is: {:.2f} deg C\\n\".format(temp_city))\n",
        " f.write(\"current weather desc  :\"+weather_desc+\"\\n\")\n",
        " f.write(\"current Humidity      :\"+str(hmdt)+'% \\n')\n",
        " f.write(\"current wind speed    :\"+str(wind_spd)+ 'kmph')\n",
        "\n",
        " "
      ],
      "execution_count": 62,
      "outputs": [
        {
          "output_type": "stream",
          "text": [
            "Enter the city name:rourkela\n",
            "-----------------------------------------------------\n",
            "Weather stats for - ROURKELA || 22 Jun 21 | 09:42:20 AM \n",
            "-----------------------------------------------------\n",
            "Current temperature is: 31.92 deg C\n",
            "current weather desc  : broken clouds\n",
            "current Humidity      : 57 %\n",
            "current wind speed    : 4.11 kmph\n"
          ],
          "name": "stdout"
        }
      ]
    }
  ]
}